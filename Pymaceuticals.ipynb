{
 "cells": [
  {
   "cell_type": "markdown",
   "metadata": {},
   "source": [
    "# Pymaceuticals Inc."
   ]
  },
  {
   "cell_type": "code",
   "execution_count": null,
   "metadata": {},
   "outputs": [],
   "source": [
    "# Dependencies and Setup\n",
    "# Dependencies\n",
    "from matplotlib import pyplot as plt\n",
    "from scipy.stats import linregress\n",
    "import scipy.stats as st\n",
    "import numpy as np\n",
    "from sklearn import datasets\n",
    "import pandas as pd\n",
    "\n",
    "# Study data files\n",
    "mouse_metadata_path = \"data/Mouse_metadata.csv\"\n",
    "study_results_path = \"data/Study_results.csv\"\n",
    "\n",
    "# Read the mouse data and the study results\n",
    "mouse_metadata = pd.read_csv(mouse_metadata_path)\n",
    "study_results = pd.read_csv(study_results_path)\n",
    "\n",
    "# Combine the data into a single dataset\n",
    "Pymaceuticals_df = pd.merge(study_results,mouse_metadata,on = 'Mouse ID')\n",
    "\n",
    "# Display the data table for preview\n",
    "Pymaceuticals_df.head()"
   ]
  },
  {
   "cell_type": "code",
   "execution_count": null,
   "metadata": {},
   "outputs": [],
   "source": [
    "# Checking the number of mice.\n",
    "No_Mice = len(Pymaceuticals_df['Mouse ID'].unique())\n",
    "print(f\" Total number of Unique Mice: {No_Mice}\")"
   ]
  },
  {
   "cell_type": "markdown",
   "metadata": {},
   "source": []
  },
  {
   "cell_type": "code",
   "execution_count": null,
   "metadata": {},
   "outputs": [],
   "source": [
    "# Getting the duplicate mice by ID number that shows up for Mouse ID and Timepoint. \n",
    "Duplicates_df = Pymaceuticals_df[Pymaceuticals_df.duplicated([\"Mouse ID\",\"Timepoint\"])]"
   ]
  },
  {
   "cell_type": "code",
   "execution_count": null,
   "metadata": {},
   "outputs": [],
   "source": [
    "# Optional: Get all the data for the duplicate mouse ID. \n",
    "Duplicates_df"
   ]
  },
  {
   "cell_type": "code",
   "execution_count": null,
   "metadata": {},
   "outputs": [],
   "source": [
    "# Create a clean DataFrame by dropping the duplicate mouse by its ID.\n",
    "clean_Pymaceuticals_df = Pymaceuticals_df.drop(Pymaceuticals_df[Pymaceuticals_df['Mouse ID'] == 'g989'].index)"
   ]
  },
  {
   "cell_type": "code",
   "execution_count": null,
   "metadata": {},
   "outputs": [],
   "source": [
    "# Checking the number of mice in the clean DataFrame.\n",
    "No_Mice = len(clean_Pymaceuticals_df['Mouse ID'].unique())\n",
    "print(f\" Total number of Unique Mice: {No_Mice}\")"
   ]
  },
  {
   "cell_type": "markdown",
   "metadata": {},
   "source": [
    "## Summary Statistics"
   ]
  },
  {
   "cell_type": "code",
   "execution_count": null,
   "metadata": {},
   "outputs": [],
   "source": [
    "# Generate a summary statistics table of mean, median, variance, standard deviation, and SEM of the tumor volume for each regimen\n",
    "\n",
    "# This method is the most straighforward, creating multiple series and putting them all together at the end.\n",
    "grouped_Pymaceuticals_df = Pymaceuticals_df.groupby(['Drug Regimen'])\n",
    "print(grouped_Pymaceuticals_df)\n",
    "\n",
    "# Mean of the tumor volume for each regimen\n",
    "tumorvol_mean = grouped_Pymaceuticals_df['Tumor Volume (mm3)'].mean()\n",
    "# Median of the tumor volume for each regimen\n",
    "tumorvol_median = grouped_Pymaceuticals_df['Tumor Volume (mm3)'].median()\n",
    "# Variance of the tumor volume for each regimen\n",
    "tumorvol_var = grouped_Pymaceuticals_df['Tumor Volume (mm3)'].var()\n",
    "# Std DEV of the tumor volume for each regimen\n",
    "tumorvol_stdev = grouped_Pymaceuticals_df['Tumor Volume (mm3)'].std()\n",
    "# SEM of the tumor volume for each regimen\n",
    "tumorvol_sem = grouped_Pymaceuticals_df['Tumor Volume (mm3)'].sem()\n",
    "\n",
    "Summary = pd.merge(tumorvol_mean,tumorvol_median,on = 'Drug Regimen')\n",
    "Summary1 = pd.merge(Summary,tumorvol_var,on = 'Drug Regimen')\n",
    "Summary2 = pd.merge(Summary1,tumorvol_stdev,on = 'Drug Regimen')\n",
    "Summary3 = pd.merge(Summary2,tumorvol_sem,on = 'Drug Regimen')\n",
    "Summary3.reset_index(inplace=True)\n",
    "Summary3.columns = [\"Drug Regimen\",\"Mean Tumor Volume\",\"Median Tumor Volume\",\"Tumor Volume Vairance\",\"Tumor Volume Std. Dev.\",\"Tumor Volume Std. Err.\"]\n",
    "Summary3"
   ]
  },
  {
   "cell_type": "code",
   "execution_count": null,
   "metadata": {},
   "outputs": [],
   "source": [
    "# Generate a summary statistics table of mean, median, variance, standard deviation, and SEM of the tumor volume for each regimen\n",
    "\n",
    "# This method produces everything in a single groupby function\n",
    "Pymaceuticals_summary = pd.DataFrame(Pymaceuticals_df.groupby(['Drug Regimen']).agg({\"Tumor Volume (mm3)\":[\"mean\",\"median\",\"var\",\"std\",\"sem\"]}))\n",
    "Pymaceuticals_summary"
   ]
  },
  {
   "cell_type": "markdown",
   "metadata": {},
   "source": [
    "## Bar and Pie Charts"
   ]
  },
  {
   "cell_type": "code",
   "execution_count": null,
   "metadata": {},
   "outputs": [],
   "source": [
    "# Generate a bar plot showing the total number of mice for each treatment throughout the course of the study using pandas. \n",
    "# Filter the DataFrame down only to those columns to chart\n",
    "\n",
    "Pymaceuticals_summary = pd.DataFrame(Pymaceuticals_df.groupby(\"Drug Regimen\").agg({\"Drug Regimen\":[\"count\"]}))\n",
    "Pymaceuticals_summary.reset_index(inplace=True)\n",
    "Pymaceuticals_summary.columns = [\"Drug Regimen\",\"Data_Points\"]\n",
    "\n",
    "Sorted_summary = Pymaceuticals_summary.sort_values(by = [\"Data_Points\"],ascending = False)\n",
    "Sorted_summary.set_index(\"Drug Regimen\",inplace = True)\n",
    "# Use DataFrame.plot() in order to create a bar chart of the data\n",
    "Sorted_summary.plot(kind=\"bar\",legend = False)\n",
    "\n",
    "# Set a title for the chart\n",
    "plt.title(\"# Mice per Treatment\")\n",
    "plt.xlabel('Drug Regimen')\n",
    "plt.ylabel('Number of Data Points')\n",
    "\n",
    "plt.tight_layout()\n",
    "plt.show()"
   ]
  },
  {
   "cell_type": "code",
   "execution_count": null,
   "metadata": {},
   "outputs": [],
   "source": [
    "# Generate a bar plot showing the total number of mice for each treatment throughout the course of the study using pyplot.\n",
    "Pymaceuticals_summary = pd.DataFrame(Pymaceuticals_df.groupby(\"Drug Regimen\").agg({\"Drug Regimen\":[\"count\"]}))\n",
    "Pymaceuticals_summary.reset_index(inplace=True)\n",
    "Pymaceuticals_summary.columns = [\"Drug Regimen\",\"Data_Points\"]\n",
    "\n",
    "Sorted_summary = Pymaceuticals_summary.sort_values(by = [\"Data_Points\"],ascending = False)\n",
    "Sorted_summary.reset_index(inplace=True)\n",
    "\n",
    "x_axis = np.arange(len(Sorted_summary[\"Drug Regimen\"]))\n",
    "tick_locations = [value for value in x_axis]\n",
    "\n",
    "plt.bar(x_axis, Sorted_summary[\"Data_Points\"], color='skyblue', alpha=1, align=\"center\") \n",
    "\n",
    "plt.xticks(tick_locations, Sorted_summary[\"Drug Regimen\"], rotation=\"vertical\")\n",
    "\n",
    "plt.title(\"# Mice per Treatment\")\n",
    "plt.xlabel('Drug Regimen')\n",
    "plt.ylabel('Number of Data Points')\n",
    "\n",
    "plt.tight_layout() \n",
    "plt.show()"
   ]
  },
  {
   "cell_type": "code",
   "execution_count": null,
   "metadata": {},
   "outputs": [],
   "source": [
    "# Generate a pie plot showing the distribution of female versus male mice using pandas\n",
    "# Grouping the Dataframe by Gender\n",
    "\n",
    "perc = round((Pymaceuticals_df[\"Sex\"].value_counts()/len(Pymaceuticals_df.value_counts()))*100)\n",
    "\n",
    "perc.plot(kind=\"pie\",autopct=\"%1.1f%%\")"
   ]
  },
  {
   "cell_type": "code",
   "execution_count": null,
   "metadata": {},
   "outputs": [],
   "source": [
    "# Generate a pie plot showing the distribution of female versus male mice using pyplot\n",
    "\n",
    "perc = round((Pymaceuticals_df[\"Sex\"].value_counts()/len(Pymaceuticals_df.value_counts()))*100)\n",
    "\n",
    "# Labels for the sections of our pie chart\n",
    "labels = [\"Male\", \"Female\"]\n",
    "\n",
    "# The values of each section of the pie chart\n",
    "values = perc\n",
    "\n",
    "# The colors of each section of the pie chart\n",
    "colors = [\"lightblue\",\"darkorange\"]\n",
    "\n",
    "# Tells matplotlib to seperate the \"Humans\" section from the others\n",
    "explode = (0.1, 0)\n",
    "\n",
    "# Creates the pie chart based upon the values above\n",
    "# Automatically finds the percentages of each part of the pie chart\n",
    "plt.pie(values, explode=explode, labels=labels, colors=colors,\n",
    "        autopct=\"%1.1f%%\", shadow=True, startangle=5)"
   ]
  },
  {
   "cell_type": "markdown",
   "metadata": {},
   "source": [
    "## Quartiles, Outliers and Boxplots"
   ]
  },
  {
   "cell_type": "code",
   "execution_count": null,
   "metadata": {},
   "outputs": [],
   "source": [
    "# Calculate the final tumor volume of each mouse across four of the treatment regimens:  \n",
    "# Capomulin, Ramicane, Infubinol, and Ceftamin\n",
    "Select_regimens = Pymaceuticals_df[(Pymaceuticals_df['Drug Regimen']=='Capomulin') | (Pymaceuticals_df['Drug Regimen']=='Ramicane')\n",
    "                                  | (Pymaceuticals_df['Drug Regimen']=='Infubinol')| (Pymaceuticals_df['Drug Regimen']=='Ceftamin')]\n",
    "\n",
    "regimens_summary = pd.DataFrame(Select_regimens.groupby(\"Drug Regimen\").agg({\"Tumor Volume (mm3)\":[\"sum\"]}))\n",
    "regimens_summary.reset_index(inplace=True)\n",
    "regimens_summary.columns = [\"Drug Regimen\",\"Total Tumor Volume (mm3)\"]\n",
    "\n",
    "# Start by getting the last (greatest) timepoint for each mouse\n",
    "Last_timepoint = pd.DataFrame(Select_regimens.groupby(\"Drug Regimen\").agg({\"Timepoint\":[\"max\"]}))\n",
    "Last_timepoint.reset_index(inplace=True)\n",
    "Last_timepoint.columns = [\"Drug Regimen\",\"Timepoint\"]\n",
    "\n",
    "# Merge this group df with the original dataframe to get the tumor volume at the last timepoint\n",
    "Group_df = pd.merge(regimens_summary,Last_timepoint,on = 'Drug Regimen')\n",
    "Group_df"
   ]
  },
  {
   "cell_type": "code",
   "execution_count": null,
   "metadata": {},
   "outputs": [],
   "source": [
    "# Put treatments into a list for for loop (and later for plot labels)\n",
    "Treatments = Group_df['Drug Regimen']\n",
    "\n",
    "# Create empty list to fill with tumor vol data (for plotting)\n",
    "Tumor_Vol = []              \n",
    "\n",
    "# Calculate the IQR and quantitatively determine if there are any potential outliers.\n",
    "# Capomulin Regimen\n",
    "Tumorvol_Capomulin = Pymaceuticals_df.loc[(Pymaceuticals_df['Drug Regimen']=='Capomulin'),'Tumor Volume (mm3)']\n",
    "quartiles_Capomulin = Tumorvol_Capomulin.quantile([.25,.5,.75])\n",
    "lowerq_Capomulin = quartiles_Capomulin[0.25]\n",
    "upperq_Capomulin = quartiles_Capomulin[0.75]\n",
    "iqr_Capomulin = upperq_Capomulin-lowerq_Capomulin\n",
    "lower_bound_Capomulin = round(lowerq_Capomulin - (1.5*iqr_Capomulin),2)\n",
    "upper_bound_Capomulin = round(upperq_Capomulin + (1.5*iqr_Capomulin),2)\n",
    "#Ramicane Regimen \n",
    "Tumorvol_Ramicane = Pymaceuticals_df.loc[(Pymaceuticals_df['Drug Regimen']=='Ramicane'),'Tumor Volume (mm3)']\n",
    "quartiles_Ramicane = Tumorvol_Ramicane.quantile([.25,.5,.75])\n",
    "lowerq_Ramicane = quartiles_Ramicane[0.25]\n",
    "upperq_Ramicane = quartiles_Ramicane[0.75]\n",
    "iqr_Ramicane = upperq_Ramicane-lowerq_Ramicane\n",
    "lower_bound_Ramicane = round(lowerq_Ramicane - (1.5*iqr_Ramicane),2)\n",
    "upper_bound_Ramicane = round(upperq_Ramicane + (1.5*iqr_Ramicane),2)\n",
    "#Infubinol Regimen \n",
    "Tumorvol_Infubinol = Pymaceuticals_df.loc[(Pymaceuticals_df['Drug Regimen']=='Infubinol'),'Tumor Volume (mm3)']\n",
    "quartiles_Infubinol = Tumorvol_Infubinol.quantile([.25,.5,.75])\n",
    "lowerq_Infubinol = quartiles_Infubinol[0.25]\n",
    "upperq_Infubinol = quartiles_Infubinol[0.75]\n",
    "iqr_Infubinol = upperq_Infubinol-lowerq_Infubinol\n",
    "lower_bound_Infubinol = round(lowerq_Infubinol - (1.5*iqr_Infubinol),2)\n",
    "upper_bound_Infubinol = round(upperq_Infubinol + (1.5*iqr_Infubinol),2)\n",
    "#Ramicane Regimen \n",
    "Tumorvol_Ceftamin = Pymaceuticals_df.loc[(Pymaceuticals_df['Drug Regimen']== 'Ceftamin'),'Tumor Volume (mm3)']\n",
    "quartiles_Ceftamin = Tumorvol_Ceftamin.quantile([.25,.5,.75])\n",
    "lowerq_Ceftamin = quartiles_Ceftamin[0.25]\n",
    "upperq_Ceftamin = quartiles_Ceftamin[0.75]\n",
    "iqr_Ceftamin = upperq_Ceftamin-lowerq_Ceftamin\n",
    "lower_bound_Ceftamin = round(lowerq_Ceftamin - (1.5*iqr_Ceftamin),2)\n",
    "upper_bound_Ceftamin = round(upperq_Ceftamin + (1.5*iqr_Ceftamin),2)\n",
    "\n",
    "print(f\"Values below {lower_bound_Capomulin} and above {upper_bound_Capomulin} could be outliers for Capomulin Regimen.\")\n",
    "print(f\"Values below {lower_bound_Ramicane} and above {upper_bound_Ramicane} could be outliers for Ramicane Regimen.\")\n",
    "print(f\"Values below {lower_bound_Infubinol} and above {upper_bound_Infubinol} could be outliers for Infubinol Regimen.\")\n",
    "print(f\"Values below {lower_bound_Ceftamin} and above {upper_bound_Ceftamin} could be outliers for Ceftamin Regimen.\")      "
   ]
  },
  {
   "cell_type": "code",
   "execution_count": null,
   "metadata": {},
   "outputs": [],
   "source": [
    "# Generate a box plot of the final tumor volume of each mouse across four regimens of interest\n",
    "Capomulin = Tumorvol_Capomulin\n",
    "Ramicane = Tumorvol_Ramicane\n",
    "Infubinol = Tumorvol_Infubinol\n",
    "Ceftamin = Tumorvol_Ceftamin\n",
    "plt.boxplot ([Capomulin, Ramicane, Infubinol,Ceftamin])"
   ]
  },
  {
   "cell_type": "markdown",
   "metadata": {},
   "source": [
    "## Line and Scatter Plots"
   ]
  },
  {
   "cell_type": "code",
   "execution_count": null,
   "metadata": {},
   "outputs": [],
   "source": [
    "# Generate a line plot of time point versus tumor volume for a mouse treated with Capomulin\n",
    "Pymaceuticals_capomulin = Pymaceuticals_df.loc[(Pymaceuticals_df['Drug Regimen']=='Capomulin')]\n",
    "Pymaceuticals_capomulinv2 = Pymaceuticals_capomulin.loc[(Pymaceuticals_df['Mouse ID']=='l509')]\n",
    "\n",
    "x_axis = Pymaceuticals_capomulinv2['Timepoint']\n",
    "y_axis = Pymaceuticals_capomulinv2['Tumor Volume (mm3)']\n",
    "plt.plot(x_axis, y_axis)\n",
    "plt.title('Capomulin treatment of mouse l509')\n",
    "plt.xlabel('Timepoint(days)')\n",
    "plt.ylabel('Tumor Volume (mm3)')\n",
    "plt.show()"
   ]
  },
  {
   "cell_type": "code",
   "execution_count": null,
   "metadata": {},
   "outputs": [],
   "source": [
    "# Generate a scatter plot of mouse weight versus average tumor volume for the Capomulin regimen\n",
    "Pymaceuticals_capomulin = Pymaceuticals_df.loc[(Pymaceuticals_df['Drug Regimen']=='Capomulin')]\n",
    "\n",
    "Pymaceuticals_plt = pd.DataFrame(Pymaceuticals_df.groupby(\"Weight (g)\").agg({\"Tumor Volume (mm3)\":[\"mean\"]}))\n",
    "Pymaceuticals_plt.reset_index(inplace=True)\n",
    "Pymaceuticals_plt.columns = [\"Weight (g)\",\"Av Tumor Volume (mm3)\"]\n",
    "\n",
    "x_values = Pymaceuticals_plt['Weight (g)']\n",
    "y_values = Pymaceuticals_plt['Av Tumor Volume (mm3)']\n",
    "plt.scatter(x_values,y_values)\n",
    "plt.xlabel('Weight(g)')\n",
    "plt.ylabel('Average Tumor Volume (mm3)')\n",
    "plt.show()"
   ]
  },
  {
   "cell_type": "markdown",
   "metadata": {},
   "source": [
    "## Correlation and Regression"
   ]
  },
  {
   "cell_type": "code",
   "execution_count": null,
   "metadata": {},
   "outputs": [],
   "source": [
    "# Calculate the correlation coefficient and linear regression model \n",
    "# for mouse weight and average tumor volume for the Capomulin regimen\n",
    "\n",
    "x_values = Pymaceuticals_plt['Weight (g)']\n",
    "y_values = Pymaceuticals_plt['Av Tumor Volume (mm3)']\n",
    "(slope, intercept, rvalue, pvalue, stderr) = linregress(x_values, y_values)\n",
    "\n",
    "regress_values = x_values * slope + intercept\n",
    "\n",
    "line_eq = \"y = \" + str(round(slope,2)) + \"x + \" + str(round(intercept,2))\n",
    "\n",
    "plt.scatter(x_values,y_values)\n",
    "plt.plot(x_values,regress_values,\"r-\")\n",
    "plt.annotate(line_eq,xy=(0.3,0.18),xycoords='figure fraction',horizontalalignment = 'left',fontsize = 12,color = \"red\")\n",
    "plt.xlabel('Mouse Weight(g)')\n",
    "plt.ylabel('Average Tumor Volume (mm3)')\n",
    "\n",
    "correlation = st.pearsonr(x_values,y_values)\n",
    "print(f\"The correlation between mouse weight and the average tumor volume is {round(correlation[0],2)}\")\n",
    "plt.show()"
   ]
  },
  {
   "cell_type": "code",
   "execution_count": null,
   "metadata": {},
   "outputs": [],
   "source": []
  }
 ],
 "metadata": {
  "anaconda-cloud": {},
  "kernelspec": {
   "display_name": "Python 3",
   "language": "python",
   "name": "python3"
  },
  "language_info": {
   "codemirror_mode": {
    "name": "ipython",
    "version": 3
   },
   "file_extension": ".py",
   "mimetype": "text/x-python",
   "name": "python",
   "nbconvert_exporter": "python",
   "pygments_lexer": "ipython3",
   "version": "3.8.5"
  }
 },
 "nbformat": 4,
 "nbformat_minor": 2
}
