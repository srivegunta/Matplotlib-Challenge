{
 "cells": [
  {
   "cell_type": "markdown",
   "metadata": {},
   "source": [
    "# Pymaceuticals Inc."
   ]
  },
  {
   "cell_type": "code",
   "execution_count": 394,
   "metadata": {},
   "outputs": [
    {
     "data": {
      "text/html": [
       "<div>\n",
       "<style scoped>\n",
       "    .dataframe tbody tr th:only-of-type {\n",
       "        vertical-align: middle;\n",
       "    }\n",
       "\n",
       "    .dataframe tbody tr th {\n",
       "        vertical-align: top;\n",
       "    }\n",
       "\n",
       "    .dataframe thead th {\n",
       "        text-align: right;\n",
       "    }\n",
       "</style>\n",
       "<table border=\"1\" class=\"dataframe\">\n",
       "  <thead>\n",
       "    <tr style=\"text-align: right;\">\n",
       "      <th></th>\n",
       "      <th>Mouse ID</th>\n",
       "      <th>Timepoint</th>\n",
       "      <th>Tumor Volume (mm3)</th>\n",
       "      <th>Metastatic Sites</th>\n",
       "      <th>Drug Regimen</th>\n",
       "      <th>Sex</th>\n",
       "      <th>Age_months</th>\n",
       "      <th>Weight (g)</th>\n",
       "    </tr>\n",
       "  </thead>\n",
       "  <tbody>\n",
       "    <tr>\n",
       "      <th>0</th>\n",
       "      <td>b128</td>\n",
       "      <td>0</td>\n",
       "      <td>45.000000</td>\n",
       "      <td>0</td>\n",
       "      <td>Capomulin</td>\n",
       "      <td>Female</td>\n",
       "      <td>9</td>\n",
       "      <td>22</td>\n",
       "    </tr>\n",
       "    <tr>\n",
       "      <th>1</th>\n",
       "      <td>b128</td>\n",
       "      <td>5</td>\n",
       "      <td>45.651331</td>\n",
       "      <td>0</td>\n",
       "      <td>Capomulin</td>\n",
       "      <td>Female</td>\n",
       "      <td>9</td>\n",
       "      <td>22</td>\n",
       "    </tr>\n",
       "    <tr>\n",
       "      <th>2</th>\n",
       "      <td>b128</td>\n",
       "      <td>10</td>\n",
       "      <td>43.270852</td>\n",
       "      <td>0</td>\n",
       "      <td>Capomulin</td>\n",
       "      <td>Female</td>\n",
       "      <td>9</td>\n",
       "      <td>22</td>\n",
       "    </tr>\n",
       "    <tr>\n",
       "      <th>3</th>\n",
       "      <td>b128</td>\n",
       "      <td>15</td>\n",
       "      <td>43.784893</td>\n",
       "      <td>0</td>\n",
       "      <td>Capomulin</td>\n",
       "      <td>Female</td>\n",
       "      <td>9</td>\n",
       "      <td>22</td>\n",
       "    </tr>\n",
       "    <tr>\n",
       "      <th>4</th>\n",
       "      <td>b128</td>\n",
       "      <td>20</td>\n",
       "      <td>42.731552</td>\n",
       "      <td>0</td>\n",
       "      <td>Capomulin</td>\n",
       "      <td>Female</td>\n",
       "      <td>9</td>\n",
       "      <td>22</td>\n",
       "    </tr>\n",
       "  </tbody>\n",
       "</table>\n",
       "</div>"
      ],
      "text/plain": [
       "  Mouse ID  Timepoint  Tumor Volume (mm3)  Metastatic Sites Drug Regimen  \\\n",
       "0     b128          0           45.000000                 0    Capomulin   \n",
       "1     b128          5           45.651331                 0    Capomulin   \n",
       "2     b128         10           43.270852                 0    Capomulin   \n",
       "3     b128         15           43.784893                 0    Capomulin   \n",
       "4     b128         20           42.731552                 0    Capomulin   \n",
       "\n",
       "      Sex  Age_months  Weight (g)  \n",
       "0  Female           9          22  \n",
       "1  Female           9          22  \n",
       "2  Female           9          22  \n",
       "3  Female           9          22  \n",
       "4  Female           9          22  "
      ]
     },
     "execution_count": 394,
     "metadata": {},
     "output_type": "execute_result"
    }
   ],
   "source": [
    "# Dependencies and Setup\n",
    "# Dependencies\n",
    "from matplotlib import pyplot as plt\n",
    "from scipy.stats import linregress\n",
    "import numpy as np\n",
    "from sklearn import datasets\n",
    "import pandas as pd\n",
    "\n",
    "# Study data files\n",
    "mouse_metadata_path = \"data/Mouse_metadata.csv\"\n",
    "study_results_path = \"data/Study_results.csv\"\n",
    "\n",
    "# Read the mouse data and the study results\n",
    "mouse_metadata = pd.read_csv(mouse_metadata_path)\n",
    "study_results = pd.read_csv(study_results_path)\n",
    "\n",
    "# Combine the data into a single dataset\n",
    "Pymaceuticals_df = pd.merge(study_results,mouse_metadata,on = 'Mouse ID')\n",
    "\n",
    "# Display the data table for preview\n",
    "Pymaceuticals_df.head()"
   ]
  },
  {
   "cell_type": "code",
   "execution_count": 101,
   "metadata": {},
   "outputs": [
    {
     "name": "stdout",
     "output_type": "stream",
     "text": [
      " Total number of Unique Mice: 249\n"
     ]
    }
   ],
   "source": [
    "# Checking the number of mice.\n",
    "No_Mice = len(Pymaceuticals_df['Mouse ID'].unique())\n",
    "print(f\" Total number of Unique Mice: {No_Mice}\")"
   ]
  },
  {
   "cell_type": "markdown",
   "metadata": {},
   "source": []
  },
  {
   "cell_type": "code",
   "execution_count": 395,
   "metadata": {},
   "outputs": [],
   "source": [
    "# Getting the duplicate mice by ID number that shows up for Mouse ID and Timepoint. \n",
    "Duplicates_df = Pymaceuticals_df[Pymaceuticals_df.duplicated([\"Mouse ID\",\"Timepoint\"])]"
   ]
  },
  {
   "cell_type": "code",
   "execution_count": 396,
   "metadata": {},
   "outputs": [
    {
     "data": {
      "text/html": [
       "<div>\n",
       "<style scoped>\n",
       "    .dataframe tbody tr th:only-of-type {\n",
       "        vertical-align: middle;\n",
       "    }\n",
       "\n",
       "    .dataframe tbody tr th {\n",
       "        vertical-align: top;\n",
       "    }\n",
       "\n",
       "    .dataframe thead th {\n",
       "        text-align: right;\n",
       "    }\n",
       "</style>\n",
       "<table border=\"1\" class=\"dataframe\">\n",
       "  <thead>\n",
       "    <tr style=\"text-align: right;\">\n",
       "      <th></th>\n",
       "      <th>Mouse ID</th>\n",
       "      <th>Timepoint</th>\n",
       "      <th>Tumor Volume (mm3)</th>\n",
       "      <th>Metastatic Sites</th>\n",
       "      <th>Drug Regimen</th>\n",
       "      <th>Sex</th>\n",
       "      <th>Age_months</th>\n",
       "      <th>Weight (g)</th>\n",
       "    </tr>\n",
       "  </thead>\n",
       "  <tbody>\n",
       "    <tr>\n",
       "      <th>861</th>\n",
       "      <td>g989</td>\n",
       "      <td>0</td>\n",
       "      <td>45.000000</td>\n",
       "      <td>0</td>\n",
       "      <td>Propriva</td>\n",
       "      <td>Female</td>\n",
       "      <td>21</td>\n",
       "      <td>26</td>\n",
       "    </tr>\n",
       "    <tr>\n",
       "      <th>863</th>\n",
       "      <td>g989</td>\n",
       "      <td>5</td>\n",
       "      <td>47.570392</td>\n",
       "      <td>0</td>\n",
       "      <td>Propriva</td>\n",
       "      <td>Female</td>\n",
       "      <td>21</td>\n",
       "      <td>26</td>\n",
       "    </tr>\n",
       "    <tr>\n",
       "      <th>865</th>\n",
       "      <td>g989</td>\n",
       "      <td>10</td>\n",
       "      <td>49.880528</td>\n",
       "      <td>0</td>\n",
       "      <td>Propriva</td>\n",
       "      <td>Female</td>\n",
       "      <td>21</td>\n",
       "      <td>26</td>\n",
       "    </tr>\n",
       "    <tr>\n",
       "      <th>867</th>\n",
       "      <td>g989</td>\n",
       "      <td>15</td>\n",
       "      <td>53.442020</td>\n",
       "      <td>0</td>\n",
       "      <td>Propriva</td>\n",
       "      <td>Female</td>\n",
       "      <td>21</td>\n",
       "      <td>26</td>\n",
       "    </tr>\n",
       "    <tr>\n",
       "      <th>869</th>\n",
       "      <td>g989</td>\n",
       "      <td>20</td>\n",
       "      <td>54.657650</td>\n",
       "      <td>1</td>\n",
       "      <td>Propriva</td>\n",
       "      <td>Female</td>\n",
       "      <td>21</td>\n",
       "      <td>26</td>\n",
       "    </tr>\n",
       "  </tbody>\n",
       "</table>\n",
       "</div>"
      ],
      "text/plain": [
       "    Mouse ID  Timepoint  Tumor Volume (mm3)  Metastatic Sites Drug Regimen  \\\n",
       "861     g989          0           45.000000                 0     Propriva   \n",
       "863     g989          5           47.570392                 0     Propriva   \n",
       "865     g989         10           49.880528                 0     Propriva   \n",
       "867     g989         15           53.442020                 0     Propriva   \n",
       "869     g989         20           54.657650                 1     Propriva   \n",
       "\n",
       "        Sex  Age_months  Weight (g)  \n",
       "861  Female          21          26  \n",
       "863  Female          21          26  \n",
       "865  Female          21          26  \n",
       "867  Female          21          26  \n",
       "869  Female          21          26  "
      ]
     },
     "execution_count": 396,
     "metadata": {},
     "output_type": "execute_result"
    }
   ],
   "source": [
    "# Optional: Get all the data for the duplicate mouse ID. \n",
    "Duplicates_df"
   ]
  },
  {
   "cell_type": "code",
   "execution_count": 404,
   "metadata": {},
   "outputs": [],
   "source": [
    "# Create a clean DataFrame by dropping the duplicate mouse by its ID.\n",
    "clean_Pymaceuticals_df = Pymaceuticals_df.drop(Pymaceuticals_df[Pymaceuticals_df['Mouse ID'] == 'g989'].index)"
   ]
  },
  {
   "cell_type": "code",
   "execution_count": 405,
   "metadata": {},
   "outputs": [
    {
     "name": "stdout",
     "output_type": "stream",
     "text": [
      " Total number of Unique Mice: 248\n"
     ]
    }
   ],
   "source": [
    "# Checking the number of mice in the clean DataFrame.\n",
    "No_Mice = len(clean_Pymaceuticals_df['Mouse ID'].unique())\n",
    "print(f\" Total number of Unique Mice: {No_Mice}\")"
   ]
  },
  {
   "cell_type": "markdown",
   "metadata": {},
   "source": [
    "## Summary Statistics"
   ]
  },
  {
   "cell_type": "code",
   "execution_count": 278,
   "metadata": {},
   "outputs": [
    {
     "name": "stdout",
     "output_type": "stream",
     "text": [
      "<pandas.core.groupby.generic.DataFrameGroupBy object at 0x0000014FC0389610>\n"
     ]
    },
    {
     "data": {
      "text/html": [
       "<div>\n",
       "<style scoped>\n",
       "    .dataframe tbody tr th:only-of-type {\n",
       "        vertical-align: middle;\n",
       "    }\n",
       "\n",
       "    .dataframe tbody tr th {\n",
       "        vertical-align: top;\n",
       "    }\n",
       "\n",
       "    .dataframe thead th {\n",
       "        text-align: right;\n",
       "    }\n",
       "</style>\n",
       "<table border=\"1\" class=\"dataframe\">\n",
       "  <thead>\n",
       "    <tr style=\"text-align: right;\">\n",
       "      <th></th>\n",
       "      <th>Drug Regimen</th>\n",
       "      <th>Mean Tumor Volume</th>\n",
       "      <th>Median Tumor Volume</th>\n",
       "      <th>Tumor Volume Vairance</th>\n",
       "      <th>Tumor Volume Std. Dev.</th>\n",
       "      <th>Tumor Volume Std. Err.</th>\n",
       "    </tr>\n",
       "  </thead>\n",
       "  <tbody>\n",
       "    <tr>\n",
       "      <th>0</th>\n",
       "      <td>Capomulin</td>\n",
       "      <td>40.675741</td>\n",
       "      <td>41.557809</td>\n",
       "      <td>24.947764</td>\n",
       "      <td>4.994774</td>\n",
       "      <td>0.329346</td>\n",
       "    </tr>\n",
       "    <tr>\n",
       "      <th>1</th>\n",
       "      <td>Ceftamin</td>\n",
       "      <td>52.591172</td>\n",
       "      <td>51.776157</td>\n",
       "      <td>39.290177</td>\n",
       "      <td>6.268188</td>\n",
       "      <td>0.469821</td>\n",
       "    </tr>\n",
       "    <tr>\n",
       "      <th>2</th>\n",
       "      <td>Infubinol</td>\n",
       "      <td>52.884795</td>\n",
       "      <td>51.820584</td>\n",
       "      <td>43.128684</td>\n",
       "      <td>6.567243</td>\n",
       "      <td>0.492236</td>\n",
       "    </tr>\n",
       "    <tr>\n",
       "      <th>3</th>\n",
       "      <td>Ketapril</td>\n",
       "      <td>55.235638</td>\n",
       "      <td>53.698743</td>\n",
       "      <td>68.553577</td>\n",
       "      <td>8.279709</td>\n",
       "      <td>0.603860</td>\n",
       "    </tr>\n",
       "    <tr>\n",
       "      <th>4</th>\n",
       "      <td>Naftisol</td>\n",
       "      <td>54.331565</td>\n",
       "      <td>52.509285</td>\n",
       "      <td>66.173479</td>\n",
       "      <td>8.134708</td>\n",
       "      <td>0.596466</td>\n",
       "    </tr>\n",
       "    <tr>\n",
       "      <th>5</th>\n",
       "      <td>Placebo</td>\n",
       "      <td>54.033581</td>\n",
       "      <td>52.288934</td>\n",
       "      <td>61.168083</td>\n",
       "      <td>7.821003</td>\n",
       "      <td>0.581331</td>\n",
       "    </tr>\n",
       "    <tr>\n",
       "      <th>6</th>\n",
       "      <td>Propriva</td>\n",
       "      <td>52.393463</td>\n",
       "      <td>50.909965</td>\n",
       "      <td>43.138803</td>\n",
       "      <td>6.568014</td>\n",
       "      <td>0.525862</td>\n",
       "    </tr>\n",
       "    <tr>\n",
       "      <th>7</th>\n",
       "      <td>Ramicane</td>\n",
       "      <td>40.216745</td>\n",
       "      <td>40.673236</td>\n",
       "      <td>23.486704</td>\n",
       "      <td>4.846308</td>\n",
       "      <td>0.320955</td>\n",
       "    </tr>\n",
       "    <tr>\n",
       "      <th>8</th>\n",
       "      <td>Stelasyn</td>\n",
       "      <td>54.233149</td>\n",
       "      <td>52.431737</td>\n",
       "      <td>59.450562</td>\n",
       "      <td>7.710419</td>\n",
       "      <td>0.573111</td>\n",
       "    </tr>\n",
       "    <tr>\n",
       "      <th>9</th>\n",
       "      <td>Zoniferol</td>\n",
       "      <td>53.236507</td>\n",
       "      <td>51.818479</td>\n",
       "      <td>48.533355</td>\n",
       "      <td>6.966589</td>\n",
       "      <td>0.516398</td>\n",
       "    </tr>\n",
       "  </tbody>\n",
       "</table>\n",
       "</div>"
      ],
      "text/plain": [
       "  Drug Regimen  Mean Tumor Volume  Median Tumor Volume  Tumor Volume Vairance  \\\n",
       "0    Capomulin          40.675741            41.557809              24.947764   \n",
       "1     Ceftamin          52.591172            51.776157              39.290177   \n",
       "2    Infubinol          52.884795            51.820584              43.128684   \n",
       "3     Ketapril          55.235638            53.698743              68.553577   \n",
       "4     Naftisol          54.331565            52.509285              66.173479   \n",
       "5      Placebo          54.033581            52.288934              61.168083   \n",
       "6     Propriva          52.393463            50.909965              43.138803   \n",
       "7     Ramicane          40.216745            40.673236              23.486704   \n",
       "8     Stelasyn          54.233149            52.431737              59.450562   \n",
       "9    Zoniferol          53.236507            51.818479              48.533355   \n",
       "\n",
       "   Tumor Volume Std. Dev.  Tumor Volume Std. Err.  \n",
       "0                4.994774                0.329346  \n",
       "1                6.268188                0.469821  \n",
       "2                6.567243                0.492236  \n",
       "3                8.279709                0.603860  \n",
       "4                8.134708                0.596466  \n",
       "5                7.821003                0.581331  \n",
       "6                6.568014                0.525862  \n",
       "7                4.846308                0.320955  \n",
       "8                7.710419                0.573111  \n",
       "9                6.966589                0.516398  "
      ]
     },
     "execution_count": 278,
     "metadata": {},
     "output_type": "execute_result"
    }
   ],
   "source": [
    "# Generate a summary statistics table of mean, median, variance, standard deviation, and SEM of the tumor volume for each regimen\n",
    "\n",
    "# This method is the most straighforward, creating multiple series and putting them all together at the end.\n",
    "grouped_Pymaceuticals_df = Pymaceuticals_df.groupby(['Drug Regimen'])\n",
    "print(grouped_Pymaceuticals_df)\n",
    "\n",
    "# Mean of the tumor volume for each regimen\n",
    "tumorvol_mean = grouped_Pymaceuticals_df['Tumor Volume (mm3)'].mean()\n",
    "# Median of the tumor volume for each regimen\n",
    "tumorvol_median = grouped_Pymaceuticals_df['Tumor Volume (mm3)'].median()\n",
    "# Variance of the tumor volume for each regimen\n",
    "tumorvol_var = grouped_Pymaceuticals_df['Tumor Volume (mm3)'].var()\n",
    "# Std DEV of the tumor volume for each regimen\n",
    "tumorvol_stdev = grouped_Pymaceuticals_df['Tumor Volume (mm3)'].std()\n",
    "# SEM of the tumor volume for each regimen\n",
    "tumorvol_sem = grouped_Pymaceuticals_df['Tumor Volume (mm3)'].sem()\n",
    "\n",
    "Summary = pd.merge(tumorvol_mean,tumorvol_median,on = 'Drug Regimen')\n",
    "Summary1 = pd.merge(Summary,tumorvol_var,on = 'Drug Regimen')\n",
    "Summary2 = pd.merge(Summary1,tumorvol_stdev,on = 'Drug Regimen')\n",
    "Summary3 = pd.merge(Summary2,tumorvol_sem,on = 'Drug Regimen')\n",
    "Summary3.reset_index(inplace=True)\n",
    "Summary3.columns = [\"Drug Regimen\",\"Mean Tumor Volume\",\"Median Tumor Volume\",\"Tumor Volume Vairance\",\"Tumor Volume Std. Dev.\",\"Tumor Volume Std. Err.\"]\n",
    "Summary3"
   ]
  },
  {
   "cell_type": "code",
   "execution_count": 5,
   "metadata": {},
   "outputs": [
    {
     "data": {
      "text/html": [
       "<div>\n",
       "<style scoped>\n",
       "    .dataframe tbody tr th:only-of-type {\n",
       "        vertical-align: middle;\n",
       "    }\n",
       "\n",
       "    .dataframe tbody tr th {\n",
       "        vertical-align: top;\n",
       "    }\n",
       "\n",
       "    .dataframe thead tr th {\n",
       "        text-align: left;\n",
       "    }\n",
       "\n",
       "    .dataframe thead tr:last-of-type th {\n",
       "        text-align: right;\n",
       "    }\n",
       "</style>\n",
       "<table border=\"1\" class=\"dataframe\">\n",
       "  <thead>\n",
       "    <tr>\n",
       "      <th></th>\n",
       "      <th colspan=\"5\" halign=\"left\">Tumor Volume (mm3)</th>\n",
       "    </tr>\n",
       "    <tr>\n",
       "      <th></th>\n",
       "      <th>mean</th>\n",
       "      <th>median</th>\n",
       "      <th>var</th>\n",
       "      <th>std</th>\n",
       "      <th>sem</th>\n",
       "    </tr>\n",
       "    <tr>\n",
       "      <th>Drug Regimen</th>\n",
       "      <th></th>\n",
       "      <th></th>\n",
       "      <th></th>\n",
       "      <th></th>\n",
       "      <th></th>\n",
       "    </tr>\n",
       "  </thead>\n",
       "  <tbody>\n",
       "    <tr>\n",
       "      <th>Capomulin</th>\n",
       "      <td>40.675741</td>\n",
       "      <td>41.557809</td>\n",
       "      <td>24.947764</td>\n",
       "      <td>4.994774</td>\n",
       "      <td>0.329346</td>\n",
       "    </tr>\n",
       "    <tr>\n",
       "      <th>Ceftamin</th>\n",
       "      <td>52.591172</td>\n",
       "      <td>51.776157</td>\n",
       "      <td>39.290177</td>\n",
       "      <td>6.268188</td>\n",
       "      <td>0.469821</td>\n",
       "    </tr>\n",
       "    <tr>\n",
       "      <th>Infubinol</th>\n",
       "      <td>52.884795</td>\n",
       "      <td>51.820584</td>\n",
       "      <td>43.128684</td>\n",
       "      <td>6.567243</td>\n",
       "      <td>0.492236</td>\n",
       "    </tr>\n",
       "    <tr>\n",
       "      <th>Ketapril</th>\n",
       "      <td>55.235638</td>\n",
       "      <td>53.698743</td>\n",
       "      <td>68.553577</td>\n",
       "      <td>8.279709</td>\n",
       "      <td>0.603860</td>\n",
       "    </tr>\n",
       "    <tr>\n",
       "      <th>Naftisol</th>\n",
       "      <td>54.331565</td>\n",
       "      <td>52.509285</td>\n",
       "      <td>66.173479</td>\n",
       "      <td>8.134708</td>\n",
       "      <td>0.596466</td>\n",
       "    </tr>\n",
       "    <tr>\n",
       "      <th>Placebo</th>\n",
       "      <td>54.033581</td>\n",
       "      <td>52.288934</td>\n",
       "      <td>61.168083</td>\n",
       "      <td>7.821003</td>\n",
       "      <td>0.581331</td>\n",
       "    </tr>\n",
       "    <tr>\n",
       "      <th>Propriva</th>\n",
       "      <td>52.322552</td>\n",
       "      <td>50.854632</td>\n",
       "      <td>42.351070</td>\n",
       "      <td>6.507770</td>\n",
       "      <td>0.512884</td>\n",
       "    </tr>\n",
       "    <tr>\n",
       "      <th>Ramicane</th>\n",
       "      <td>40.216745</td>\n",
       "      <td>40.673236</td>\n",
       "      <td>23.486704</td>\n",
       "      <td>4.846308</td>\n",
       "      <td>0.320955</td>\n",
       "    </tr>\n",
       "    <tr>\n",
       "      <th>Stelasyn</th>\n",
       "      <td>54.233149</td>\n",
       "      <td>52.431737</td>\n",
       "      <td>59.450562</td>\n",
       "      <td>7.710419</td>\n",
       "      <td>0.573111</td>\n",
       "    </tr>\n",
       "    <tr>\n",
       "      <th>Zoniferol</th>\n",
       "      <td>53.236507</td>\n",
       "      <td>51.818479</td>\n",
       "      <td>48.533355</td>\n",
       "      <td>6.966589</td>\n",
       "      <td>0.516398</td>\n",
       "    </tr>\n",
       "  </tbody>\n",
       "</table>\n",
       "</div>"
      ],
      "text/plain": [
       "             Tumor Volume (mm3)                                          \n",
       "                           mean     median        var       std       sem\n",
       "Drug Regimen                                                             \n",
       "Capomulin             40.675741  41.557809  24.947764  4.994774  0.329346\n",
       "Ceftamin              52.591172  51.776157  39.290177  6.268188  0.469821\n",
       "Infubinol             52.884795  51.820584  43.128684  6.567243  0.492236\n",
       "Ketapril              55.235638  53.698743  68.553577  8.279709  0.603860\n",
       "Naftisol              54.331565  52.509285  66.173479  8.134708  0.596466\n",
       "Placebo               54.033581  52.288934  61.168083  7.821003  0.581331\n",
       "Propriva              52.322552  50.854632  42.351070  6.507770  0.512884\n",
       "Ramicane              40.216745  40.673236  23.486704  4.846308  0.320955\n",
       "Stelasyn              54.233149  52.431737  59.450562  7.710419  0.573111\n",
       "Zoniferol             53.236507  51.818479  48.533355  6.966589  0.516398"
      ]
     },
     "execution_count": 5,
     "metadata": {},
     "output_type": "execute_result"
    }
   ],
   "source": [
    "# Generate a summary statistics table of mean, median, variance, standard deviation, and SEM of the tumor volume for each regimen\n",
    "\n",
    "# This method produces everything in a single groupby function\n",
    "Pymaceuticals_summary = pd.DataFrame(Pymaceuticals_df.groupby(['Drug Regimen']).agg({\"Tumor Volume (mm3)\":[\"mean\",\"median\",\"var\",\"std\",\"sem\"]}))\n",
    "Pymaceuticals_summary"
   ]
  },
  {
   "cell_type": "markdown",
   "metadata": {},
   "source": [
    "## Bar and Pie Charts"
   ]
  },
  {
   "cell_type": "code",
   "execution_count": 298,
   "metadata": {},
   "outputs": [
    {
     "data": {
      "image/png": "[encoded data removed]",
      "text/plain": [
       "<Figure size 432x288 with 1 Axes>"
      ]
     },
     "metadata": {
      "needs_background": "light"
     },
     "output_type": "display_data"
    },
    {
     "data": {
      "text/html": [
       "<div>\n",
       "<style scoped>\n",
       "    .dataframe tbody tr th:only-of-type {\n",
       "        vertical-align: middle;\n",
       "    }\n",
       "\n",
       "    .dataframe tbody tr th {\n",
       "        vertical-align: top;\n",
       "    }\n",
       "\n",
       "    .dataframe thead th {\n",
       "        text-align: right;\n",
       "    }\n",
       "</style>\n",
       "<table border=\"1\" class=\"dataframe\">\n",
       "  <thead>\n",
       "    <tr style=\"text-align: right;\">\n",
       "      <th></th>\n",
       "      <th>Data_Points</th>\n",
       "    </tr>\n",
       "    <tr>\n",
       "      <th>Drug Regimen</th>\n",
       "      <th></th>\n",
       "    </tr>\n",
       "  </thead>\n",
       "  <tbody>\n",
       "    <tr>\n",
       "      <th>Capomulin</th>\n",
       "      <td>230</td>\n",
       "    </tr>\n",
       "    <tr>\n",
       "      <th>Ramicane</th>\n",
       "      <td>228</td>\n",
       "    </tr>\n",
       "    <tr>\n",
       "      <th>Ketapril</th>\n",
       "      <td>188</td>\n",
       "    </tr>\n",
       "    <tr>\n",
       "      <th>Naftisol</th>\n",
       "      <td>186</td>\n",
       "    </tr>\n",
       "    <tr>\n",
       "      <th>Zoniferol</th>\n",
       "      <td>182</td>\n",
       "    </tr>\n",
       "    <tr>\n",
       "      <th>Placebo</th>\n",
       "      <td>181</td>\n",
       "    </tr>\n",
       "    <tr>\n",
       "      <th>Stelasyn</th>\n",
       "      <td>181</td>\n",
       "    </tr>\n",
       "    <tr>\n",
       "      <th>Ceftamin</th>\n",
       "      <td>178</td>\n",
       "    </tr>\n",
       "    <tr>\n",
       "      <th>Infubinol</th>\n",
       "      <td>178</td>\n",
       "    </tr>\n",
       "    <tr>\n",
       "      <th>Propriva</th>\n",
       "      <td>156</td>\n",
       "    </tr>\n",
       "  </tbody>\n",
       "</table>\n",
       "</div>"
      ],
      "text/plain": [
       "              Data_Points\n",
       "Drug Regimen             \n",
       "Capomulin             230\n",
       "Ramicane              228\n",
       "Ketapril              188\n",
       "Naftisol              186\n",
       "Zoniferol             182\n",
       "Placebo               181\n",
       "Stelasyn              181\n",
       "Ceftamin              178\n",
       "Infubinol             178\n",
       "Propriva              156"
      ]
     },
     "execution_count": 298,
     "metadata": {},
     "output_type": "execute_result"
    }
   ],
   "source": [
    "# Generate a bar plot showing the total number of mice for each treatment throughout the course of the study using pandas. \n",
    "# Filter the DataFrame down only to those columns to chart\n",
    "\n",
    "Pymaceuticals_summary = pd.DataFrame(Pymaceuticals_df.groupby(\"Drug Regimen\").agg({\"Drug Regimen\":[\"count\"]}))\n",
    "Pymaceuticals_summary.reset_index(inplace=True)\n",
    "Pymaceuticals_summary.columns = [\"Drug Regimen\",\"Data_Points\"]\n",
    "\n",
    "Sorted_summary = Pymaceuticals_summary.sort_values(by = [\"Data_Points\"],ascending = False)\n",
    "Sorted_summary.set_index(\"Drug Regimen\",inplace = True)\n",
    "# Use DataFrame.plot() in order to create a bar chart of the data\n",
    "Sorted_summary.plot(kind=\"bar\",legend = False)\n",
    "\n",
    "# Set a title for the chart\n",
    "plt.title(\"# Mice per Treatment\")\n",
    "plt.xlabel('Drug Regimen')\n",
    "plt.ylabel('Number of Data Points')\n",
    "\n",
    "plt.tight_layout()\n",
    "plt.show()"
   ]
  },
  {
   "cell_type": "code",
   "execution_count": 306,
   "metadata": {},
   "outputs": [
    {
     "data": {
      "image/png": "[encoded data removed]",
      "text/plain": [
       "<Figure size 432x288 with 1 Axes>"
      ]
     },
     "metadata": {
      "needs_background": "light"
     },
     "output_type": "display_data"
    }
   ],
   "source": [
    "# Generate a bar plot showing the total number of mice for each treatment throughout the course of the study using pyplot.\n",
    "Pymaceuticals_summary = pd.DataFrame(Pymaceuticals_df.groupby(\"Drug Regimen\").agg({\"Drug Regimen\":[\"count\"]}))\n",
    "Pymaceuticals_summary.reset_index(inplace=True)\n",
    "Pymaceuticals_summary.columns = [\"Drug Regimen\",\"Data_Points\"]\n",
    "\n",
    "Sorted_summary = Pymaceuticals_summary.sort_values(by = [\"Data_Points\"],ascending = False)\n",
    "Sorted_summary.reset_index(inplace=True)\n",
    "\n",
    "x_axis = np.arange(len(Sorted_summary[\"Drug Regimen\"]))\n",
    "tick_locations = [value for value in x_axis]\n",
    "\n",
    "plt.bar(x_axis, Sorted_summary[\"Data_Points\"], color='skyblue', alpha=1, align=\"center\") \n",
    "\n",
    "plt.xticks(tick_locations, Sorted_summary[\"Drug Regimen\"], rotation=\"vertical\")\n",
    "\n",
    "plt.title(\"# Mice per Treatment\")\n",
    "plt.xlabel('Drug Regimen')\n",
    "plt.ylabel('Number of Data Points')\n",
    "\n",
    "plt.tight_layout() \n",
    "plt.show()"
   ]
  },
  {
   "cell_type": "code",
   "execution_count": 370,
   "metadata": {},
   "outputs": [
    {
     "data": {
      "text/plain": [
       "<AxesSubplot:ylabel='Sex'>"
      ]
     },
     "execution_count": 370,
     "metadata": {},
     "output_type": "execute_result"
    },
    {
     "data": {
      "image/png": "[encoded data removed]",
      "text/plain": [
       "<Figure size 432x288 with 1 Axes>"
      ]
     },
     "metadata": {},
     "output_type": "display_data"
    }
   ],
   "source": [
    "# Generate a pie plot showing the distribution of female versus male mice using pandas\n",
    "# Grouping the Dataframe by Gender\n",
    "\n",
    "perc = round((Pymaceuticals_df[\"Sex\"].value_counts()/len(Pymaceuticals_df.value_counts()))*100)\n",
    "\n",
    "perc.plot(kind=\"pie\",autopct=\"%1.1f%%\")"
   ]
  },
  {
   "cell_type": "code",
   "execution_count": 372,
   "metadata": {},
   "outputs": [
    {
     "data": {
      "text/plain": [
       "([<matplotlib.patches.Wedge at 0x14fbfe4ad60>,\n",
       "  <matplotlib.patches.Wedge at 0x14fbfe24670>],\n",
       " [Text(-0.14208472626803478, 1.1915586139847834, 'Male'),\n",
       "  Text(0.13024433241236533, -1.0922620628193846, 'Female')],\n",
       " [Text(-0.08288275698968695, 0.6950758581577902, '51.0%'),\n",
       "  Text(0.07104236313401743, -0.5957793069923916, '49.0%')])"
      ]
     },
     "execution_count": 372,
     "metadata": {},
     "output_type": "execute_result"
    },
    {
     "data": {
      "image/png": "[encoded data removed]",
      "text/plain": [
       "<Figure size 432x288 with 1 Axes>"
      ]
     },
     "metadata": {},
     "output_type": "display_data"
    }
   ],
   "source": [
    "# Generate a pie plot showing the distribution of female versus male mice using pyplot\n",
    "\n",
    "perc = round((Pymaceuticals_df[\"Sex\"].value_counts()/len(Pymaceuticals_df.value_counts()))*100)\n",
    "\n",
    "# Labels for the sections of our pie chart\n",
    "labels = [\"Male\", \"Female\"]\n",
    "\n",
    "# The values of each section of the pie chart\n",
    "values = perc\n",
    "\n",
    "# The colors of each section of the pie chart\n",
    "colors = [\"lightblue\",\"darkorange\"]\n",
    "\n",
    "# Tells matplotlib to seperate the \"Humans\" section from the others\n",
    "explode = (0.1, 0)\n",
    "\n",
    "# Creates the pie chart based upon the values above\n",
    "# Automatically finds the percentages of each part of the pie chart\n",
    "plt.pie(values, explode=explode, labels=labels, colors=colors,\n",
    "        autopct=\"%1.1f%%\", shadow=True, startangle=5)"
   ]
  },
  {
   "cell_type": "markdown",
   "metadata": {},
   "source": [
    "## Quartiles, Outliers and Boxplots"
   ]
  },
  {
   "cell_type": "code",
   "execution_count": 156,
   "metadata": {},
   "outputs": [
    {
     "data": {
      "text/html": [
       "<div>\n",
       "<style scoped>\n",
       "    .dataframe tbody tr th:only-of-type {\n",
       "        vertical-align: middle;\n",
       "    }\n",
       "\n",
       "    .dataframe tbody tr th {\n",
       "        vertical-align: top;\n",
       "    }\n",
       "\n",
       "    .dataframe thead th {\n",
       "        text-align: right;\n",
       "    }\n",
       "</style>\n",
       "<table border=\"1\" class=\"dataframe\">\n",
       "  <thead>\n",
       "    <tr style=\"text-align: right;\">\n",
       "      <th></th>\n",
       "      <th>Drug Regimen</th>\n",
       "      <th>Total Tumor Volume (mm3)</th>\n",
       "      <th>Timepoint</th>\n",
       "    </tr>\n",
       "  </thead>\n",
       "  <tbody>\n",
       "    <tr>\n",
       "      <th>0</th>\n",
       "      <td>Capomulin</td>\n",
       "      <td>9355.420462</td>\n",
       "      <td>45</td>\n",
       "    </tr>\n",
       "    <tr>\n",
       "      <th>1</th>\n",
       "      <td>Ceftamin</td>\n",
       "      <td>9361.228582</td>\n",
       "      <td>45</td>\n",
       "    </tr>\n",
       "    <tr>\n",
       "      <th>2</th>\n",
       "      <td>Infubinol</td>\n",
       "      <td>9413.493529</td>\n",
       "      <td>45</td>\n",
       "    </tr>\n",
       "    <tr>\n",
       "      <th>3</th>\n",
       "      <td>Ramicane</td>\n",
       "      <td>9169.417875</td>\n",
       "      <td>45</td>\n",
       "    </tr>\n",
       "  </tbody>\n",
       "</table>\n",
       "</div>"
      ],
      "text/plain": [
       "  Drug Regimen  Total Tumor Volume (mm3)  Timepoint\n",
       "0    Capomulin               9355.420462         45\n",
       "1     Ceftamin               9361.228582         45\n",
       "2    Infubinol               9413.493529         45\n",
       "3     Ramicane               9169.417875         45"
      ]
     },
     "execution_count": 156,
     "metadata": {},
     "output_type": "execute_result"
    }
   ],
   "source": [
    "# Calculate the final tumor volume of each mouse across four of the treatment regimens:  \n",
    "# Capomulin, Ramicane, Infubinol, and Ceftamin\n",
    "Select_regimens = Pymaceuticals_df[(Pymaceuticals_df['Drug Regimen']=='Capomulin') | (Pymaceuticals_df['Drug Regimen']=='Ramicane')\n",
    "                                  | (Pymaceuticals_df['Drug Regimen']=='Infubinol')| (Pymaceuticals_df['Drug Regimen']=='Ceftamin')]\n",
    "\n",
    "regimens_summary = pd.DataFrame(Select_regimens.groupby(\"Drug Regimen\").agg({\"Tumor Volume (mm3)\":[\"sum\"]}))\n",
    "regimens_summary.reset_index(inplace=True)\n",
    "regimens_summary.columns = [\"Drug Regimen\",\"Total Tumor Volume (mm3)\"]\n",
    "\n",
    "# Start by getting the last (greatest) timepoint for each mouse\n",
    "Last_timepoint = pd.DataFrame(Select_regimens.groupby(\"Drug Regimen\").agg({\"Timepoint\":[\"max\"]}))\n",
    "Last_timepoint.reset_index(inplace=True)\n",
    "Last_timepoint.columns = [\"Drug Regimen\",\"Timepoint\"]\n",
    "\n",
    "# Merge this group df with the original dataframe to get the tumor volume at the last timepoint\n",
    "Group_df = pd.merge(regimens_summary,Last_timepoint,on = 'Drug Regimen')\n",
    "Group_df"
   ]
  },
  {
   "cell_type": "code",
   "execution_count": 440,
   "metadata": {},
   "outputs": [
    {
     "name": "stdout",
     "output_type": "stream",
     "text": [
      "Values below 26.71 and above 55.97 could be outliers for Capomulin Regimen.\n",
      "Values below 25.7 and above 55.97 could be outliers for Ramicane Regimen.\n",
      "Values below 36.34 and above 68.29 could be outliers for Infubinol Regimen.\n",
      "Values below 36.24 and above 67.77 could be outliers for Ceftamin Regimen.\n"
     ]
    }
   ],
   "source": [
    "# Put treatments into a list for for loop (and later for plot labels)\n",
    "Treatments = Group_df['Drug Regimen']\n",
    "\n",
    "# Create empty list to fill with tumor vol data (for plotting)\n",
    "Tumor_Vol = []              \n",
    "\n",
    "# Calculate the IQR and quantitatively determine if there are any potential outliers.\n",
    "# Capomulin Regimen\n",
    "Tumorvol_Capomulin = Pymaceuticals_df.loc[(Pymaceuticals_df['Drug Regimen']=='Capomulin'),'Tumor Volume (mm3)']\n",
    "quartiles_Capomulin = Tumorvol_Capomulin.quantile([.25,.5,.75])\n",
    "lowerq_Capomulin = quartiles_Capomulin[0.25]\n",
    "upperq_Capomulin = quartiles_Capomulin[0.75]\n",
    "iqr_Capomulin = upperq_Capomulin-lowerq_Capomulin\n",
    "lower_bound_Capomulin = round(lowerq_Capomulin - (1.5*iqr),2)\n",
    "upper_bound_Capomulin = round(upperq_Capomulin + (1.5*iqr),2)\n",
    "#Ramicane Regimen \n",
    "Tumorvol_Ramicane = Pymaceuticals_df.loc[(Pymaceuticals_df['Drug Regimen']=='Ramicane'),'Tumor Volume (mm3)']\n",
    "quartiles_Ramicane = Tumorvol_Ramicane.quantile([.25,.5,.75])\n",
    "lowerq_Ramicane = quartiles_Ramicane[0.25]\n",
    "upperq_Ramicane = quartiles_Ramicane[0.75]\n",
    "iqr_Ramicane = upperq_Ramicane-lowerq_Ramicane\n",
    "lower_bound_Ramicane = round(lowerq_Ramicane - (1.5*iqr),2)\n",
    "upper_bound_Ramicane = round(upperq_Ramicane + (1.5*iqr),2)\n",
    "#Infubinol Regimen \n",
    "Tumorvol_Infubinol = Pymaceuticals_df.loc[(Pymaceuticals_df['Drug Regimen']=='Infubinol'),'Tumor Volume (mm3)']\n",
    "quartiles_Infubinol = Tumorvol_Infubinol.quantile([.25,.5,.75])\n",
    "lowerq_Infubinol = quartiles_Infubinol[0.25]\n",
    "upperq_Infubinol = quartiles_Infubinol[0.75]\n",
    "iqr_Infubinol = upperq_Infubinol-lowerq_Infubinol\n",
    "lower_bound_Infubinol = round(lowerq_Infubinol - (1.5*iqr),2)\n",
    "upper_bound_Infubinol = round(upperq_Infubinol + (1.5*iqr),2)\n",
    "#Ramicane Regimen \n",
    "Tumorvol_Ceftamin = Pymaceuticals_df.loc[(Pymaceuticals_df['Drug Regimen']== 'Ceftamin'),'Tumor Volume (mm3)']\n",
    "quartiles_Ceftamin = Tumorvol_Ceftamin.quantile([.25,.5,.75])\n",
    "lowerq_Ceftamin = quartiles_Ceftamin[0.25]\n",
    "upperq_Ceftamin = quartiles_Ceftamin[0.75]\n",
    "iqr_Ceftamin = upperq_Ceftamin-lowerq_Ceftamin\n",
    "lower_bound_Ceftamin = round(lowerq_Ceftamin - (1.5*iqr),2)\n",
    "upper_bound_Ceftamin = round(upperq_Ceftamin + (1.5*iqr),2)\n",
    "\n",
    "print(f\"Values below {lower_bound_Capomulin} and above {upper_bound_Capomulin} could be outliers for Capomulin Regimen.\")\n",
    "print(f\"Values below {lower_bound_Ramicane} and above {upper_bound_Ramicane} could be outliers for Ramicane Regimen.\")\n",
    "print(f\"Values below {lower_bound_Infubinol} and above {upper_bound_Infubinol} could be outliers for Infubinol Regimen.\")\n",
    "print(f\"Values below {lower_bound_Ceftamin} and above {upper_bound_Ceftamin} could be outliers for Ceftamin Regimen.\")      "
   ]
  },
  {
   "cell_type": "code",
   "execution_count": 441,
   "metadata": {},
   "outputs": [
    {
     "data": {
      "text/plain": [
       "{'whiskers': [<matplotlib.lines.Line2D at 0x14fc1d9bee0>,\n",
       "  <matplotlib.lines.Line2D at 0x14fc1d9b910>,\n",
       "  <matplotlib.lines.Line2D at 0x14fc1f10d90>,\n",
       "  <matplotlib.lines.Line2D at 0x14fc1f10eb0>,\n",
       "  <matplotlib.lines.Line2D at 0x14fc1d86400>,\n",
       "  <matplotlib.lines.Line2D at 0x14fc1d86190>,\n",
       "  <matplotlib.lines.Line2D at 0x14fc1c90bb0>,\n",
       "  <matplotlib.lines.Line2D at 0x14fc157fca0>],\n",
       " 'caps': [<matplotlib.lines.Line2D at 0x14fc1d9be50>,\n",
       "  <matplotlib.lines.Line2D at 0x14fc1d9b3d0>,\n",
       "  <matplotlib.lines.Line2D at 0x14fc1f10130>,\n",
       "  <matplotlib.lines.Line2D at 0x14fc1daa910>,\n",
       "  <matplotlib.lines.Line2D at 0x14fc1f070d0>,\n",
       "  <matplotlib.lines.Line2D at 0x14fc1f07bb0>,\n",
       "  <matplotlib.lines.Line2D at 0x14fc157f4f0>,\n",
       "  <matplotlib.lines.Line2D at 0x14fc159dbe0>],\n",
       " 'boxes': [<matplotlib.lines.Line2D at 0x14fc1a7c2b0>,\n",
       "  <matplotlib.lines.Line2D at 0x14fc1f101c0>,\n",
       "  <matplotlib.lines.Line2D at 0x14fc1daa250>,\n",
       "  <matplotlib.lines.Line2D at 0x14fc1c90910>],\n",
       " 'medians': [<matplotlib.lines.Line2D at 0x14fbfd9bb20>,\n",
       "  <matplotlib.lines.Line2D at 0x14fc1daab50>,\n",
       "  <matplotlib.lines.Line2D at 0x14fc1f07430>,\n",
       "  <matplotlib.lines.Line2D at 0x14fc159d040>],\n",
       " 'fliers': [<matplotlib.lines.Line2D at 0x14fc1c51640>,\n",
       "  <matplotlib.lines.Line2D at 0x14fc1daa790>,\n",
       "  <matplotlib.lines.Line2D at 0x14fc1f07c10>,\n",
       "  <matplotlib.lines.Line2D at 0x14fc1b80d90>],\n",
       " 'means': []}"
      ]
     },
     "execution_count": 441,
     "metadata": {},
     "output_type": "execute_result"
    },
    {
     "data": {
      "image/png": "[encoded data removed]",
      "text/plain": [
       "<Figure size 432x288 with 1 Axes>"
      ]
     },
     "metadata": {
      "needs_background": "light"
     },
     "output_type": "display_data"
    }
   ],
   "source": [
    "# Generate a box plot of the final tumor volume of each mouse across four regimens of interest\n",
    "Capomulin = Tumorvol_Capomulin\n",
    "Ramicane = Tumorvol_Ramicane\n",
    "Infubinol = Tumorvol_Infubinol\n",
    "Ceftamin = Tumorvol_Ceftamin\n",
    "plt.boxplot ([Capomulin, Ramicane, Infubinol,Ceftamin])"
   ]
  },
  {
   "cell_type": "markdown",
   "metadata": {},
   "source": [
    "## Line and Scatter Plots"
   ]
  },
  {
   "cell_type": "code",
   "execution_count": 105,
   "metadata": {},
   "outputs": [
    {
     "data": {
      "image/png": "[encoded data removed]",
      "text/plain": [
       "<Figure size 432x288 with 1 Axes>"
      ]
     },
     "metadata": {
      "needs_background": "light"
     },
     "output_type": "display_data"
    }
   ],
   "source": [
    "# Generate a line plot of time point versus tumor volume for a mouse treated with Capomulin\n",
    "Pymaceuticals_capomulin = Pymaceuticals_df.loc[(Pymaceuticals_df['Drug Regimen']=='Capomulin')]\n",
    "Pymaceuticals_capomulinv2 = Pymaceuticals_capomulin.loc[(Pymaceuticals_df['Mouse ID']=='l509')]\n",
    "\n",
    "x_axis = Pymaceuticals_capomulinv2['Timepoint']\n",
    "y_axis = Pymaceuticals_capomulinv2['Tumor Volume (mm3)']\n",
    "plt.plot(x_axis, y_axis)\n",
    "plt.title('Capomulin treatment of mouse l509')\n",
    "plt.xlabel('Timepoint(days)')\n",
    "plt.ylabel('Tumor Volume (mm3)')\n",
    "plt.show()"
   ]
  },
  {
   "cell_type": "code",
   "execution_count": 414,
   "metadata": {},
   "outputs": [
    {
     "data": {
      "image/png": "[encoded data removed]",
      "text/plain": [
       "<Figure size 432x288 with 1 Axes>"
      ]
     },
     "metadata": {
      "needs_background": "light"
     },
     "output_type": "display_data"
    }
   ],
   "source": [
    "# Generate a scatter plot of mouse weight versus average tumor volume for the Capomulin regimen\n",
    "Pymaceuticals_capomulin = Pymaceuticals_df.loc[(Pymaceuticals_df['Drug Regimen']=='Capomulin')]\n",
    "\n",
    "Pymaceuticals_plt = pd.DataFrame(Pymaceuticals_df.groupby(\"Weight (g)\").agg({\"Tumor Volume (mm3)\":[\"mean\"]}))\n",
    "Pymaceuticals_plt.reset_index(inplace=True)\n",
    "Pymaceuticals_plt.columns = [\"Weight (g)\",\"Av Tumor Volume (mm3)\"]\n",
    "\n",
    "x_values = Pymaceuticals_plt['Weight (g)']\n",
    "y_values = Pymaceuticals_plt['Av Tumor Volume (mm3)']\n",
    "plt.scatter(x_values,y_values)\n",
    "plt.xlabel('Weight(g)')\n",
    "plt.ylabel('Average Tumor Volume (mm3)')\n",
    "plt.show()"
   ]
  },
  {
   "cell_type": "markdown",
   "metadata": {},
   "source": [
    "## Correlation and Regression"
   ]
  },
  {
   "cell_type": "code",
   "execution_count": 412,
   "metadata": {},
   "outputs": [
    {
     "name": "stdout",
     "output_type": "stream",
     "text": [
      "The correlation between mouse weight and the average tumor volume is 0.96\n"
     ]
    },
    {
     "data": {
      "image/png": "[encoded data removed]",
      "text/plain": [
       "<Figure size 432x288 with 1 Axes>"
      ]
     },
     "metadata": {
      "needs_background": "light"
     },
     "output_type": "display_data"
    }
   ],
   "source": [
    "# Calculate the correlation coefficient and linear regression model \n",
    "# for mouse weight and average tumor volume for the Capomulin regimen\n",
    "\n",
    "x_values = Pymaceuticals_plt['Weight (g)']\n",
    "y_values = Pymaceuticals_plt['Av Tumor Volume (mm3)']\n",
    "(slope, intercept, rvalue, pvalue, stderr) = linregress(x_values, y_values)\n",
    "\n",
    "regress_values = x_values * slope + intercept\n",
    "\n",
    "line_eq = \"y = \" + str(round(slope,2)) + \"x + \" + str(round(intercept,2))\n",
    "\n",
    "plt.scatter(x_values,y_values)\n",
    "plt.plot(x_values,regress_values,\"r-\")\n",
    "plt.annotate(line_eq,xy=(0.3,0.18),xycoords='figure fraction',horizontalalignment = 'left',fontsize = 12,color = \"red\")\n",
    "plt.xlabel('Mouse Weight(g)')\n",
    "plt.ylabel('Average Tumor Volume (mm3)')\n",
    "\n",
    "correlation = st.pearsonr(x_values,y_values)\n",
    "print(f\"The correlation between mouse weight and the average tumor volume is {round(correlation[0],2)}\")\n",
    "plt.show()"
   ]
  },
  {
   "cell_type": "code",
   "execution_count": null,
   "metadata": {},
   "outputs": [],
   "source": []
  }
 ],
 "metadata": {
  "anaconda-cloud": {},
  "kernelspec": {
   "display_name": "Python 3",
   "language": "python",
   "name": "python3"
  },
  "language_info": {
   "codemirror_mode": {
    "name": "ipython",
    "version": 3
   },
   "file_extension": ".py",
   "mimetype": "text/x-python",
   "name": "python",
   "nbconvert_exporter": "python",
   "pygments_lexer": "ipython3",
   "version": "3.8.5"
  }
 },
 "nbformat": 4,
 "nbformat_minor": 2
}
